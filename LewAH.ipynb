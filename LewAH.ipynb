{
  "cells": [
    {
      "cell_type": "markdown",
      "metadata": {
        "id": "AIuZ3ZHuG0oB"
      },
      "source": [
        "PART 0 : DATA COLLECTION\n",
        "\n",
        "This segment will go over the data collection process from the game World of Warcraft. For all intents and purposes you may skip this part if you're just here to learn python and data-analysis as that is the main focus of this project. This is more so for the people with a little extra time or curiousity to spare.\n",
        "\n",
        "The World of Warcraft auction house works like you might expect - you put up listings for the items you own and people can either bid on them over a set amount of time or buy them outright at a price you set (often based on the current market value but undercutted slightly). Also to whom it may concern, I play World of Warcraft classic, which is basically a re-release of the game as it was back in the 2000's. There is the \"retail\" version of wow which is what is kept up to date and given a new modern-looking expansion every year but I just simply prefer to play the game as it was back in its glory years. The current version of the game has an official online api and HTTP query system for receiving data but that is not offered to world of warcraft \"classic\". Therefor I must do things manually from inside the game which is what lead to the long spiel below.\n",
        "\n",
        "When I first set out to collect the auction house data my first thought was to scrape existing data from auction house addons that currently exist. Addons are third party programs that run in a contained environment within the game. They are written in lua and have highly restricted capabilities due to security measures put in place by the game developer. There already exists many auction house addons which essentially function by scanning the auction house for data (using the API made by the game developer), storing that data in memory, and then giving the player the price metrics they want whereever they might be needed. These addons are typically used to help streamline the auction house process in it's entirety - whether it be wanting to immediately know how much to undercut existing prices without having to search up each item then go back to the auctioning menu, automatically being told which items are being listed for less than usual and have a re-sell profit potential (often called auction sniping), or vice versa being told which items are being listed higher than usual based on past scan data suggesting that maybe you should wait until prices go back down. \n",
        "\n",
        "This is where I ran into my first issue. Often times these auction house addons aren't simple. They are made by recognized developers in the community that have been making and updating the addon from potentially even the release of the game in 2004. Therefor, these addons are huge and offer a lot of features which unfortunately didn't help my case when I was trying to navigate thousands of lines of code. Before this project I had never programmed in lua and trying to hunt down what I wanted in this goose chase was more than just time-consuming. Also the data structures in the save-data files were convoluted and tailored just to these addons. They all lacked the needed documentation for me to interpret what each random value meant in the unlabeled hundreds of thousands of rows inside the lua object snapshot where the data is saved.\n",
        "\n",
        "So what did I decide to do? To make my own addon! This would give me the capability to format my own datastructure and really understand what's happening under the hood. I quickly realized some things. 1.) to efficiently scan the auction house you must make basically give the server a request to \"scan all\" which would display every item currently on the auction house on one page. You can only make this request every 15 to 20 minutes 2.) you must loop through every single item currently VIEWABLE on the auction house, as the \"scan all\" request doesn't actually return anything on the server. 3.) There are many safety precautions, so in order to save your data you have to write down, in a descriptor file, specifically which variables the game will save off and then the game will take a snapshot of those variables when you logout and save them in a lua file. So with all that said, I begun my scans and on the server which I am currently playing, Maladath-US Alliance, 40,000 listings on average was what you might expect. After hours of head scratching and bug fixing I was finally able to get the game engine to save off my database for me to copy and plop into this project's files. Unforunately, the data files are just snapshots of lua variables (explaining the lua extension) so they will need to be converted if I want to use Pandas in python. Also, I changed up my data structure to something containing many more variables therefor friday's scan is a little lack luster. Also, due to human error I accidentally wrote over saturday's data file which is arguably the most important since prices go way up on the weekend which would've been cool to show.\n",
        "\n",
        "If you're interested, you may find my addon in the WoW_AddOn folder. LewAH (Lew Auction House) sure sounds like lua doesn't it ;)"
      ]
    },
    {
      "cell_type": "markdown",
      "source": [
        "An example scan output from LewAH may look like this:"
      ],
      "metadata": {
        "id": "PjpNJJ-hG5F0"
      }
    },
    {
      "cell_type": "code",
      "execution_count": null,
      "metadata": {
        "id": "bYvIye4AG0oF"
      },
      "outputs": [],
      "source": [
        "#lewdb = {\n",
        "#            ['scanDate'] = scan_date,           #date(\"%m/%d/%y %H:%M:%S\")\n",
        "#            [item_name1] = {\n",
        "#                ['id'] = itemId, \n",
        "#                ['listings'] = {\n",
        "#                    {texture, count, quality, canUse, level, levelColHeader, minBid, minIncrement, buyoutPrice, bidAmount, highBidder, bidderFullName, owner, ownerFullName, saleStatus},\n",
        "#                    {texture, count, quality, canUse, level, levelColHeader, minBid, minIncrement, buyoutPrice, bidAmount, highBidder, bidderFullName, owner, ownerFullName, saleStatus},\n",
        "#                    ...\n",
        "#                }\n",
        "#            },\n",
        "#            [item_name2] = {\n",
        "#                ['id'] = itemId, \n",
        "#                ['listings'] = {\n",
        "#                    {texture, count, quality, canUse, level, levelColHeader, minBid, minIncrement, buyoutPrice, bidAmount, highBidder, bidderFullName, owner, ownerFullName, saleStatus},\n",
        "#                    {texture, count, quality, canUse, level, levelColHeader, minBid, minIncrement, buyoutPrice, bidAmount, highBidder, bidderFullName, owner, ownerFullName, saleStatus},\n",
        "#                    ...\n",
        "#                }\n",
        "#            },\n",
        "#            ...\n",
        "#        }\n",
        "#}"
      ]
    },
    {
      "cell_type": "markdown",
      "source": [
        "The LewAH addon produces a nested lua table for each listed item and respective listing. As we need to import this data into pandas, I wrote a program called \"csv_gen.lua\" that takes a filename (produced from LewAH) and maps it to a .csv file. I use nested stateless iterators (ipairs) to index through each item and listing, recursively flattening the list of attributes so that it may be easily formatted and displayed as a .csv entry. The source code (seen below) can also be found in the scripts folder."
      ],
      "metadata": {
        "id": "PTQv2_uQG9mi"
      }
    },
    {
      "cell_type": "markdown",
      "source": [
        "```lua\n",
        "-- change filename to scan data (ex. \"Dec_12\")\n",
        "filename = \"sample\"\n",
        "\n",
        "listings = {\"texture\", \"count\", \"quality\", \"canUse\", \"level\",\n",
        " \t\"levelColHeader\", \"minBid\", \"minIncrement\", \"buyoutPrice\",\n",
        "  \t\"bidAmount\", \"highBidder\", \"bidderFullName\", \"owner\",\n",
        "   \t\"ownerFullName\", \"saleStatus\"}\n",
        "\n",
        "current_dir=(io.popen\"cd\":read'*l'):sub(1, -8):gsub(\"\\\\\", \"/\") .. \"Data/\"\n",
        "file = io.open(current_dir .. filename .. \".csv\", \"a\")\n",
        "file:write(\"name,\")\n",
        "file:write(\"id,\")\n",
        "\n",
        "cats = \"\"\n",
        "for _, category in ipairs(listings) do\n",
        "\tcats = cats .. category .. \",\"\n",
        "end\n",
        "cats = cats:sub(1,-2)\n",
        "file:write(cats, \"\\n\")\n",
        "\n",
        "\n",
        "local f = assert(loadfile(current_dir .. filename .. \".lua\"))\n",
        "f()\n",
        "\n",
        "\n",
        "function flattenRecursive(e, result)\n",
        "    if type(e) == \"table\" then\n",
        "        for k,v in pairs(e) do\n",
        "            flattenRecursive(v, result)\n",
        "        end\n",
        "    else\n",
        "        table.insert(result, e)\n",
        "    end\n",
        "end\n",
        "\n",
        "function flatten (e)\n",
        "    local result = {}\n",
        "    flattenRecursive(e, result)\n",
        "    return result\n",
        "end\n",
        "\n",
        "scandate = \"\"\n",
        "\n",
        "function csv_gen(tb)\n",
        "\tif type(tb) == 'table' then\n",
        "\t\tfor k,v in pairs(tb) do\n",
        "\t\t\tid = -1\n",
        "\t\t\tif k == 'scanDate' then\n",
        "\t\t\t\tscandate = v\n",
        "\t\t\telse\n",
        "\t\t\t\tfor k1,v1 in pairs(v) do\n",
        "\t\t\t\t\tif k1 == 'id' then\n",
        "\t\t\t\t\t\tid = v1\n",
        "\t\t\t\t\tend\n",
        "\t\t\t\t\tif type(v1) == 'table' then\n",
        "\t\t\t\t\t\tfor k2,v2 in pairs(v1) do\n",
        "\t\t\t\t\t\t\tres = \"\"\n",
        "\t\t\t\t\t\t\tprint(k, \"listing #\", k2, \"----------\")\n",
        "\t\t\t\t\t\t\tres = res .. k .. \",\"\n",
        "\t\t\t\t\t\t\tres = res .. id .. \",\"\n",
        "\t\t\t\t\t\t\tfor k3,v3 in pairs(flatten(v2)) do\n",
        "\t\t\t\t\t\t\t\tres = res .. tostring(v3) .. \",\"\n",
        "\t\t\t\t\t\t\tend\n",
        "\t\t\t\t\t\t\tres = res:sub(1,-2)\n",
        "\t\t\t\t\t\t\tfile:write(res, \"\\n\")\n",
        "\t\t\t\t\t\tend\n",
        "\t\t\t\t\tend\n",
        "\t\t\t\tend\n",
        "\t\t\tend\n",
        "\t\tend\n",
        "\tend\n",
        "end\n",
        "\n",
        "csv_gen(lewdb)\n",
        "file:write(scandate, \"\\n\")\n",
        "\n",
        "io.close(file)\n",
        "```"
      ],
      "metadata": {
        "id": "_FZgvj_AHG5f"
      }
    },
    {
      "cell_type": "markdown",
      "metadata": {
        "id": "ayb619ZyG0oG"
      },
      "source": [
        "Part 1 : PYTHON!\n",
        "\n",
        "So for this tutorial, you're first going to need to install python if you don't already have it, and get an environment up and running!"
      ]
    },
    {
      "cell_type": "code",
      "execution_count": null,
      "metadata": {
        "id": "L14oQyeYG0oG"
      },
      "outputs": [],
      "source": [
        "import pandas as pd\n",
        "\n",
        "#blah blah blah"
      ]
    }
  ],
  "metadata": {
    "kernelspec": {
      "display_name": "base",
      "language": "python",
      "name": "python3"
    },
    "language_info": {
      "name": "python",
      "version": "3.9.12 (main, Apr  5 2022, 06:56:58) \n[GCC 7.5.0]"
    },
    "orig_nbformat": 4,
    "vscode": {
      "interpreter": {
        "hash": "8a5edab282632443219e051e4ade2d1d5bbc671c781051bf1437897cbdfea0f1"
      }
    },
    "colab": {
      "provenance": []
    }
  },
  "nbformat": 4,
  "nbformat_minor": 0
}